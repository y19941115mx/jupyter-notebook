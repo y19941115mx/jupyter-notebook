{
 "cells": [
  {
   "cell_type": "code",
   "execution_count": 6,
   "metadata": {},
   "outputs": [],
   "source": [
    "import pandas as pd\n",
    "import numpy "
   ]
  },
  {
   "cell_type": "code",
   "execution_count": 11,
   "metadata": {},
   "outputs": [
    {
     "data": {
      "text/html": [
       "<div>\n",
       "<style scoped>\n",
       "    .dataframe tbody tr th:only-of-type {\n",
       "        vertical-align: middle;\n",
       "    }\n",
       "\n",
       "    .dataframe tbody tr th {\n",
       "        vertical-align: top;\n",
       "    }\n",
       "\n",
       "    .dataframe thead th {\n",
       "        text-align: right;\n",
       "    }\n",
       "</style>\n",
       "<table border=\"1\" class=\"dataframe\">\n",
       "  <thead>\n",
       "    <tr style=\"text-align: right;\">\n",
       "      <th></th>\n",
       "      <th>A</th>\n",
       "      <th>B</th>\n",
       "      <th>C</th>\n",
       "      <th>D</th>\n",
       "    </tr>\n",
       "  </thead>\n",
       "  <tbody>\n",
       "    <tr>\n",
       "      <th>2018-09-20</th>\n",
       "      <td>-0.776685</td>\n",
       "      <td>2.069877</td>\n",
       "      <td>-0.639637</td>\n",
       "      <td>-0.151195</td>\n",
       "    </tr>\n",
       "    <tr>\n",
       "      <th>2018-09-21</th>\n",
       "      <td>0.395507</td>\n",
       "      <td>-1.118541</td>\n",
       "      <td>-0.228837</td>\n",
       "      <td>1.099007</td>\n",
       "    </tr>\n",
       "    <tr>\n",
       "      <th>2018-09-22</th>\n",
       "      <td>-0.440120</td>\n",
       "      <td>-1.157375</td>\n",
       "      <td>-0.554919</td>\n",
       "      <td>1.135202</td>\n",
       "    </tr>\n",
       "    <tr>\n",
       "      <th>2018-09-23</th>\n",
       "      <td>0.000580</td>\n",
       "      <td>-1.295625</td>\n",
       "      <td>-0.122812</td>\n",
       "      <td>-0.468825</td>\n",
       "    </tr>\n",
       "    <tr>\n",
       "      <th>2018-09-24</th>\n",
       "      <td>-1.133886</td>\n",
       "      <td>0.921472</td>\n",
       "      <td>0.580810</td>\n",
       "      <td>-0.161925</td>\n",
       "    </tr>\n",
       "    <tr>\n",
       "      <th>2018-09-25</th>\n",
       "      <td>-0.149830</td>\n",
       "      <td>0.570740</td>\n",
       "      <td>0.417764</td>\n",
       "      <td>-0.804873</td>\n",
       "    </tr>\n",
       "  </tbody>\n",
       "</table>\n",
       "</div>"
      ],
      "text/plain": [
       "                   A         B         C         D\n",
       "2018-09-20 -0.776685  2.069877 -0.639637 -0.151195\n",
       "2018-09-21  0.395507 -1.118541 -0.228837  1.099007\n",
       "2018-09-22 -0.440120 -1.157375 -0.554919  1.135202\n",
       "2018-09-23  0.000580 -1.295625 -0.122812 -0.468825\n",
       "2018-09-24 -1.133886  0.921472  0.580810 -0.161925\n",
       "2018-09-25 -0.149830  0.570740  0.417764 -0.804873"
      ]
     },
     "execution_count": 11,
     "metadata": {},
     "output_type": "execute_result"
    }
   ],
   "source": [
    "# 通过numpy创建：\n",
    "df = pd.DataFrame(numpy.random.randn(6, 4))\n",
    "\n",
    "datas = pd.date_range('20180920',periods=6)\n",
    "df = pd.DataFrame(numpy.random.randn(6, 4), index=datas, columns=list('ABCD'))\n",
    "df"
   ]
  },
  {
   "cell_type": "code",
   "execution_count": 13,
   "metadata": {},
   "outputs": [],
   "source": [
    "df.iloc[1] = [1,1,1,1]"
   ]
  },
  {
   "cell_type": "code",
   "execution_count": 14,
   "metadata": {},
   "outputs": [
    {
     "data": {
      "text/html": [
       "<div>\n",
       "<style scoped>\n",
       "    .dataframe tbody tr th:only-of-type {\n",
       "        vertical-align: middle;\n",
       "    }\n",
       "\n",
       "    .dataframe tbody tr th {\n",
       "        vertical-align: top;\n",
       "    }\n",
       "\n",
       "    .dataframe thead th {\n",
       "        text-align: right;\n",
       "    }\n",
       "</style>\n",
       "<table border=\"1\" class=\"dataframe\">\n",
       "  <thead>\n",
       "    <tr style=\"text-align: right;\">\n",
       "      <th></th>\n",
       "      <th>A</th>\n",
       "      <th>B</th>\n",
       "      <th>C</th>\n",
       "      <th>D</th>\n",
       "    </tr>\n",
       "  </thead>\n",
       "  <tbody>\n",
       "    <tr>\n",
       "      <th>2018-09-20</th>\n",
       "      <td>-0.776685</td>\n",
       "      <td>2.069877</td>\n",
       "      <td>-0.639637</td>\n",
       "      <td>-0.151195</td>\n",
       "    </tr>\n",
       "    <tr>\n",
       "      <th>2018-09-21</th>\n",
       "      <td>1.000000</td>\n",
       "      <td>1.000000</td>\n",
       "      <td>1.000000</td>\n",
       "      <td>1.000000</td>\n",
       "    </tr>\n",
       "    <tr>\n",
       "      <th>2018-09-22</th>\n",
       "      <td>-0.440120</td>\n",
       "      <td>-1.157375</td>\n",
       "      <td>-0.554919</td>\n",
       "      <td>1.135202</td>\n",
       "    </tr>\n",
       "    <tr>\n",
       "      <th>2018-09-23</th>\n",
       "      <td>0.000580</td>\n",
       "      <td>-1.295625</td>\n",
       "      <td>-0.122812</td>\n",
       "      <td>-0.468825</td>\n",
       "    </tr>\n",
       "    <tr>\n",
       "      <th>2018-09-24</th>\n",
       "      <td>-1.133886</td>\n",
       "      <td>0.921472</td>\n",
       "      <td>0.580810</td>\n",
       "      <td>-0.161925</td>\n",
       "    </tr>\n",
       "    <tr>\n",
       "      <th>2018-09-25</th>\n",
       "      <td>-0.149830</td>\n",
       "      <td>0.570740</td>\n",
       "      <td>0.417764</td>\n",
       "      <td>-0.804873</td>\n",
       "    </tr>\n",
       "  </tbody>\n",
       "</table>\n",
       "</div>"
      ],
      "text/plain": [
       "                   A         B         C         D\n",
       "2018-09-20 -0.776685  2.069877 -0.639637 -0.151195\n",
       "2018-09-21  1.000000  1.000000  1.000000  1.000000\n",
       "2018-09-22 -0.440120 -1.157375 -0.554919  1.135202\n",
       "2018-09-23  0.000580 -1.295625 -0.122812 -0.468825\n",
       "2018-09-24 -1.133886  0.921472  0.580810 -0.161925\n",
       "2018-09-25 -0.149830  0.570740  0.417764 -0.804873"
      ]
     },
     "execution_count": 14,
     "metadata": {},
     "output_type": "execute_result"
    }
   ],
   "source": [
    "df"
   ]
  },
  {
   "cell_type": "code",
   "execution_count": null,
   "metadata": {},
   "outputs": [],
   "source": []
  }
 ],
 "metadata": {
  "kernelspec": {
   "display_name": "Python 3",
   "language": "python",
   "name": "python3"
  },
  "language_info": {
   "codemirror_mode": {
    "name": "ipython",
    "version": 3
   },
   "file_extension": ".py",
   "mimetype": "text/x-python",
   "name": "python",
   "nbconvert_exporter": "python",
   "pygments_lexer": "ipython3",
   "version": "3.7.0"
  }
 },
 "nbformat": 4,
 "nbformat_minor": 2
}
