{
 "cells": [
  {
   "cell_type": "markdown",
   "metadata": {},
   "source": [
    "## 获取远程服务器数据"
   ]
  },
  {
   "cell_type": "code",
   "execution_count": null,
   "metadata": {},
   "outputs": [],
   "source": [
    "import pymysql\n",
    "import  pandas as pd"
   ]
  },
  {
   "cell_type": "code",
   "execution_count": null,
   "metadata": {},
   "outputs": [],
   "source": [
    "db = pymysql.connect(host='210.45.212.126', user='lemon', password='Bigdata0217', port=3306)"
   ]
  },
  {
   "cell_type": "code",
   "execution_count": null,
   "metadata": {},
   "outputs": [],
   "source": [
    "cursor = db.cursor()"
   ]
  },
  {
   "cell_type": "code",
   "execution_count": null,
   "metadata": {},
   "outputs": [],
   "source": [
    "sql = \"SELECT uid, weibo_cont, create_time, repost_num, comment_num, praise_num FROM `weibo`.`weibo_data` WHERE create_time > '2018-08-24 00:00' and create_time < '2018-09-20 00:00'\"\n",
    "cursor.execute(sql)"
   ]
  },
  {
   "cell_type": "code",
   "execution_count": null,
   "metadata": {},
   "outputs": [],
   "source": [
    "display_columes = ['uid', 'weibo_cont', 'create_time', 'repost_num', 'comment_num', 'praise_num']\n",
    "res = cursor.fetchall()\n",
    "data_df = pd.DataFrame(list(res), columns=display_columes)"
   ]
  },
  {
   "cell_type": "code",
   "execution_count": null,
   "metadata": {},
   "outputs": [],
   "source": [
    "sql2 = \"SELECT uid,`name`, gender,verify_type, verify_info  FROM `weibo`.`wbuser`\"\n",
    "cursor.execute(sql2)"
   ]
  },
  {
   "cell_type": "code",
   "execution_count": null,
   "metadata": {},
   "outputs": [],
   "source": [
    "res2 = cursor.fetchall()\n",
    "display_columes2 = ['uid','name', 'gender','verify_type', 'verify_info']\n",
    "user_df = pd.DataFrame(list(res2), columns=display_columes2)"
   ]
  },
  {
   "cell_type": "code",
   "execution_count": null,
   "metadata": {},
   "outputs": [],
   "source": [
    "res_df = pd.merge(data_df, user_df)\n",
    "res_df.to_csv('result.csv',index=None)\n"
   ]
  },
  {
   "cell_type": "markdown",
   "metadata": {},
   "source": [
    "### 获取本地综合数据"
   ]
  },
  {
   "cell_type": "code",
   "execution_count": null,
   "metadata": {},
   "outputs": [],
   "source": [
    "import pymysql\n",
    "import  pandas as pd"
   ]
  },
  {
   "cell_type": "code",
   "execution_count": null,
   "metadata": {},
   "outputs": [],
   "source": [
    "db = pymysql.connect(host='127.0.0.1', user='root', password='root', port=3306)"
   ]
  },
  {
   "cell_type": "code",
   "execution_count": null,
   "metadata": {},
   "outputs": [],
   "source": [
    "cursor = db.cursor()"
   ]
  },
  {
   "cell_type": "code",
   "execution_count": null,
   "metadata": {},
   "outputs": [],
   "source": [
    "sql = \"SELECT uid,weibo_cont, create_time, repost_num, comment_num, praise_num FROM `weibo`.`weibo_data` WHERE create_time > '2018-08-24 00:00' and create_time < '2018-09-20 00:00'\"\n",
    "cursor.execute(sql)"
   ]
  },
  {
   "cell_type": "code",
   "execution_count": null,
   "metadata": {},
   "outputs": [],
   "source": [
    "display_columes = ['uid' ,'weibo_cont', 'create_time', 'repost_num', 'comment_num', 'praise_num']\n",
    "res = cursor.fetchall()\n",
    "data_df = pd.DataFrame(list(res), columns=display_columes)"
   ]
  },
  {
   "cell_type": "code",
   "execution_count": null,
   "metadata": {},
   "outputs": [],
   "source": [
    "sql2 = \"SELECT uid,`name`, gender,verify_type, verify_info  FROM `weibo`.`wbuser`\"\n",
    "cursor.execute(sql2)"
   ]
  },
  {
   "cell_type": "code",
   "execution_count": null,
   "metadata": {},
   "outputs": [],
   "source": [
    "res2 = cursor.fetchall()\n",
    "display_columes2 = ['uid','name', 'gender','verify_type', 'verify_info']\n",
    "user_df = pd.DataFrame(list(res2), columns=display_columes2)"
   ]
  },
  {
   "cell_type": "code",
   "execution_count": null,
   "metadata": {},
   "outputs": [],
   "source": [
    "data_df.to_csv('../data/weibo_10000.csv')\n",
    "user_df.to_csv('../data/user_10000.csv')"
   ]
  },
  {
   "cell_type": "code",
   "execution_count": null,
   "metadata": {},
   "outputs": [],
   "source": [
    "res_df = pd.merge(data_df, user_df, how='left',on=['uid'])\n",
    "print(len(res_df), len(data_df), len(user_df))"
   ]
  },
  {
   "cell_type": "markdown",
   "metadata": {},
   "source": [
    "### 处理数据"
   ]
  },
  {
   "cell_type": "code",
   "execution_count": null,
   "metadata": {},
   "outputs": [],
   "source": [
    "res_df['create_time'] = pd.to_datetime(res_df['create_time'])"
   ]
  },
  {
   "cell_type": "code",
   "execution_count": null,
   "metadata": {},
   "outputs": [],
   "source": [
    "# 引爆点分析\n",
    "top_100 = data_df.sort_values(by=['repost_num','comment_num', 'praise_num'], ascending=[False, False, False])[:100]\n",
    "top_100 = pd.merge(top_100, user_df, how='left')\n",
    "top_100.to_excel('../data/top_100.xls')\n",
    "top_100"
   ]
  },
  {
   "cell_type": "code",
   "execution_count": null,
   "metadata": {},
   "outputs": [],
   "source": [
    "# 画出时间曲线\n",
    "time_group = res_df.groupby(lambda x: res_df['create_time'][x].date()).size()\n",
    "from matplotlib import pyplot as plt\n",
    "plt.figure(figsize=(12,6))\n",
    "plt.plot(time_group.index, time_group.values, label='weibo count')\n",
    "plt.title('analysis')\n",
    "plt.legend()\n",
    "plt.show()"
   ]
  },
  {
   "cell_type": "markdown",
   "metadata": {},
   "source": [
    "### 处理传播图"
   ]
  },
  {
   "cell_type": "code",
   "execution_count": 1,
   "metadata": {},
   "outputs": [],
   "source": [
    "import pandas as pd"
   ]
  },
  {
   "cell_type": "code",
   "execution_count": 2,
   "metadata": {},
   "outputs": [],
   "source": [
    "df = pd.read_csv('../data/repost.csv')"
   ]
  },
  {
   "cell_type": "code",
   "execution_count": 3,
   "metadata": {},
   "outputs": [],
   "source": [
    "import numpy as np\n",
    "import re\n",
    "res_2d_arr = []\n",
    "colums = ['Source', 'Target']\n",
    "for row in range(len(df)):\n",
    "    res =  [item.split(':',1)[0].replace('@','') for item in df.iloc[row,:].text.split('//') if re.match(r'@.*:.*', item)]\n",
    "    if res:\n",
    "        res = [df.iloc[row,:].uname] + res + ['Super_4ong']\n",
    "    else:\n",
    "        res = [df.iloc[row,:].uname] + ['Super_4ong']\n",
    "    res.reverse()\n",
    "    for index in range(len(res)-1):\n",
    "        res_2d_arr.append([res[index], res[index+1]])\n",
    "res_df = pd.DataFrame(np.array(res_2d_arr), columns=colums)\n",
    "res_df.to_csv('chuanbo.csv')"
   ]
  },
  {
   "cell_type": "markdown",
   "metadata": {},
   "source": [
    "### MongoDB 导入数据"
   ]
  },
  {
   "cell_type": "code",
   "execution_count": 1,
   "metadata": {},
   "outputs": [],
   "source": [
    "import pandas as pd"
   ]
  },
  {
   "cell_type": "code",
   "execution_count": 2,
   "metadata": {},
   "outputs": [],
   "source": [
    "from pymongo import MongoClient"
   ]
  },
  {
   "cell_type": "code",
   "execution_count": 3,
   "metadata": {},
   "outputs": [],
   "source": [
    "c = MongoClient()"
   ]
  },
  {
   "cell_type": "code",
   "execution_count": 4,
   "metadata": {},
   "outputs": [],
   "source": [
    "cursor = c.Projects['PHP'].find()"
   ]
  },
  {
   "cell_type": "code",
   "execution_count": 5,
   "metadata": {},
   "outputs": [
    {
     "data": {
      "text/html": [
       "<div>\n",
       "<style scoped>\n",
       "    .dataframe tbody tr th:only-of-type {\n",
       "        vertical-align: middle;\n",
       "    }\n",
       "\n",
       "    .dataframe tbody tr th {\n",
       "        vertical-align: top;\n",
       "    }\n",
       "\n",
       "    .dataframe thead th {\n",
       "        text-align: right;\n",
       "    }\n",
       "</style>\n",
       "<table border=\"1\" class=\"dataframe\">\n",
       "  <thead>\n",
       "    <tr style=\"text-align: right;\">\n",
       "      <th></th>\n",
       "      <th>Dependents</th>\n",
       "      <th>Forks</th>\n",
       "      <th>Installs</th>\n",
       "      <th>Issues</th>\n",
       "      <th>Language</th>\n",
       "      <th>Stars</th>\n",
       "      <th>Suggesters</th>\n",
       "      <th>Type</th>\n",
       "      <th>Watchers</th>\n",
       "      <th>desc</th>\n",
       "      <th>package-header</th>\n",
       "      <th>requires</th>\n",
       "      <th>source</th>\n",
       "    </tr>\n",
       "  </thead>\n",
       "  <tbody>\n",
       "    <tr>\n",
       "      <th>0</th>\n",
       "      <td>37</td>\n",
       "      <td>1</td>\n",
       "      <td>26654145</td>\n",
       "      <td>NaN</td>\n",
       "      <td>NaN</td>\n",
       "      <td>2120</td>\n",
       "      <td>2</td>\n",
       "      <td>NaN</td>\n",
       "      <td>5</td>\n",
       "      <td>Symfony polyfill for ctype functions</td>\n",
       "      <td>symfony/polyfill-ctype</td>\n",
       "      <td>php: &gt;=5.3.3</td>\n",
       "      <td>https://packagist.org/users/fabpot/</td>\n",
       "    </tr>\n",
       "    <tr>\n",
       "      <th>1</th>\n",
       "      <td>1</td>\n",
       "      <td>36</td>\n",
       "      <td>93364</td>\n",
       "      <td>0</td>\n",
       "      <td>NaN</td>\n",
       "      <td>0</td>\n",
       "      <td>0</td>\n",
       "      <td>NaN</td>\n",
       "      <td>10</td>\n",
       "      <td>A PHP5 library that is fast, easy to learn and...</td>\n",
       "      <td>spoon/library</td>\n",
       "      <td>php: ^7.1</td>\n",
       "      <td>https://packagist.org/users/tijsverkoyen/</td>\n",
       "    </tr>\n",
       "    <tr>\n",
       "      <th>2</th>\n",
       "      <td>0</td>\n",
       "      <td>57</td>\n",
       "      <td>6058</td>\n",
       "      <td>0</td>\n",
       "      <td>NaN</td>\n",
       "      <td>7</td>\n",
       "      <td>0</td>\n",
       "      <td>NaN</td>\n",
       "      <td>5</td>\n",
       "      <td>Realistic password strength estimation PHP lib...</td>\n",
       "      <td>mkopinsky/zxcvbn-php</td>\n",
       "      <td>php: ^5.6 || ^7.0|symfony/polyfill-mbstring: &gt;...</td>\n",
       "      <td>https://packagist.org/users/mkopinsky/</td>\n",
       "    </tr>\n",
       "    <tr>\n",
       "      <th>3</th>\n",
       "      <td>1</td>\n",
       "      <td>1</td>\n",
       "      <td>42066</td>\n",
       "      <td>0</td>\n",
       "      <td>NaN</td>\n",
       "      <td>4</td>\n",
       "      <td>0</td>\n",
       "      <td>NaN</td>\n",
       "      <td>1</td>\n",
       "      <td>A simple PHP package for sending messages to S...</td>\n",
       "      <td>jeremykenedy/slack</td>\n",
       "      <td>php: &gt;=5.5.0|guzzlehttp/guzzle: ~6.0|~5.0|~4.0...</td>\n",
       "      <td>https://packagist.org/users/jeremykenedy/</td>\n",
       "    </tr>\n",
       "    <tr>\n",
       "      <th>4</th>\n",
       "      <td>3</td>\n",
       "      <td>2</td>\n",
       "      <td>36099</td>\n",
       "      <td>0</td>\n",
       "      <td>NaN</td>\n",
       "      <td>0</td>\n",
       "      <td>0</td>\n",
       "      <td>NaN</td>\n",
       "      <td>1</td>\n",
       "      <td>Provides a cleaner API for reading Doctrine an...</td>\n",
       "      <td>tebru/doctrine-annotation-reader</td>\n",
       "      <td>php: &gt;= 7.1|doctrine/annotations: ^1.2|symfony...</td>\n",
       "      <td>https://packagist.org/users/natebrunette/</td>\n",
       "    </tr>\n",
       "  </tbody>\n",
       "</table>\n",
       "</div>"
      ],
      "text/plain": [
       "  Dependents Forks  Installs Issues Language Stars Suggesters Type Watchers  \\\n",
       "0         37     1  26654145    NaN      NaN  2120          2  NaN        5   \n",
       "1          1    36     93364      0      NaN     0          0  NaN       10   \n",
       "2          0    57      6058      0      NaN     7          0  NaN        5   \n",
       "3          1     1     42066      0      NaN     4          0  NaN        1   \n",
       "4          3     2     36099      0      NaN     0          0  NaN        1   \n",
       "\n",
       "                                                desc  \\\n",
       "0               Symfony polyfill for ctype functions   \n",
       "1  A PHP5 library that is fast, easy to learn and...   \n",
       "2  Realistic password strength estimation PHP lib...   \n",
       "3  A simple PHP package for sending messages to S...   \n",
       "4  Provides a cleaner API for reading Doctrine an...   \n",
       "\n",
       "                     package-header  \\\n",
       "0            symfony/polyfill-ctype   \n",
       "1                     spoon/library   \n",
       "2              mkopinsky/zxcvbn-php   \n",
       "3                jeremykenedy/slack   \n",
       "4  tebru/doctrine-annotation-reader   \n",
       "\n",
       "                                            requires  \\\n",
       "0                                       php: >=5.3.3   \n",
       "1                                          php: ^7.1   \n",
       "2  php: ^5.6 || ^7.0|symfony/polyfill-mbstring: >...   \n",
       "3  php: >=5.5.0|guzzlehttp/guzzle: ~6.0|~5.0|~4.0...   \n",
       "4  php: >= 7.1|doctrine/annotations: ^1.2|symfony...   \n",
       "\n",
       "                                      source  \n",
       "0        https://packagist.org/users/fabpot/  \n",
       "1  https://packagist.org/users/tijsverkoyen/  \n",
       "2     https://packagist.org/users/mkopinsky/  \n",
       "3  https://packagist.org/users/jeremykenedy/  \n",
       "4  https://packagist.org/users/natebrunette/  "
      ]
     },
     "execution_count": 5,
     "metadata": {},
     "output_type": "execute_result"
    }
   ],
   "source": [
    "df = pd.DataFrame(list(cursor))"
   ]
  },
  {
   "cell_type": "code",
   "execution_count": 6,
   "metadata": {},
   "outputs": [],
   "source": [
    "df.to_csv('../data/qbPHP.csv')"
   ]
  },
  {
   "cell_type": "code",
   "execution_count": null,
   "metadata": {},
   "outputs": [],
   "source": []
  }
 ],
 "metadata": {
  "kernelspec": {
   "display_name": "Python 3",
   "language": "python",
   "name": "python3"
  },
  "language_info": {
   "codemirror_mode": {
    "name": "ipython",
    "version": 3
   },
   "file_extension": ".py",
   "mimetype": "text/x-python",
   "name": "python",
   "nbconvert_exporter": "python",
   "pygments_lexer": "ipython3",
   "version": "3.6.4"
  }
 },
 "nbformat": 4,
 "nbformat_minor": 2
}
