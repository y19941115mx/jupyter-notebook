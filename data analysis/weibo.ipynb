{
 "cells": [
  {
   "cell_type": "markdown",
   "metadata": {},
   "source": [
    "## 获取远程服务器数据"
   ]
  },
  {
   "cell_type": "code",
   "execution_count": null,
   "metadata": {},
   "outputs": [],
   "source": [
    "import pymysql\n",
    "import  pandas as pd"
   ]
  },
  {
   "cell_type": "code",
   "execution_count": null,
   "metadata": {},
   "outputs": [],
   "source": [
    "db = pymysql.connect(host='210.45.212.126', user='lemon', password='Bigdata0217', port=3306)"
   ]
  },
  {
   "cell_type": "code",
   "execution_count": null,
   "metadata": {},
   "outputs": [],
   "source": [
    "cursor = db.cursor()"
   ]
  },
  {
   "cell_type": "code",
   "execution_count": null,
   "metadata": {},
   "outputs": [],
   "source": [
    "sql = \"SELECT uid, weibo_cont, create_time, repost_num, comment_num, praise_num FROM `weibo`.`weibo_data` WHERE create_time > '2018-08-24 00:00' and create_time < '2018-09-20 00:00'\"\n",
    "cursor.execute(sql)"
   ]
  },
  {
   "cell_type": "code",
   "execution_count": null,
   "metadata": {},
   "outputs": [],
   "source": [
    "display_columes = ['uid', 'weibo_cont', 'create_time', 'repost_num', 'comment_num', 'praise_num']\n",
    "res = cursor.fetchall()\n",
    "data_df = pd.DataFrame(list(res), columns=display_columes)"
   ]
  },
  {
   "cell_type": "code",
   "execution_count": null,
   "metadata": {},
   "outputs": [],
   "source": [
    "sql2 = \"SELECT uid,`name`, gender,verify_type, verify_info  FROM `weibo`.`wbuser`\"\n",
    "cursor.execute(sql2)"
   ]
  },
  {
   "cell_type": "code",
   "execution_count": null,
   "metadata": {},
   "outputs": [],
   "source": [
    "res2 = cursor.fetchall()\n",
    "display_columes2 = ['uid','name', 'gender','verify_type', 'verify_info']\n",
    "user_df = pd.DataFrame(list(res2), columns=display_columes2)"
   ]
  },
  {
   "cell_type": "code",
   "execution_count": null,
   "metadata": {},
   "outputs": [],
   "source": [
    "res_df = pd.merge(data_df, user_df)\n",
    "res_df.to_csv('result.csv',index=None)\n"
   ]
  },
  {
   "cell_type": "markdown",
   "metadata": {},
   "source": [
    "### 获取本地综合数据"
   ]
  },
  {
   "cell_type": "code",
   "execution_count": null,
   "metadata": {},
   "outputs": [],
   "source": [
    "import pymysql\n",
    "import  pandas as pd"
   ]
  },
  {
   "cell_type": "code",
   "execution_count": null,
   "metadata": {},
   "outputs": [],
   "source": [
    "db = pymysql.connect(host='127.0.0.1', user='root', password='root', port=3306)"
   ]
  },
  {
   "cell_type": "code",
   "execution_count": null,
   "metadata": {},
   "outputs": [],
   "source": [
    "cursor = db.cursor()"
   ]
  },
  {
   "cell_type": "code",
   "execution_count": null,
   "metadata": {},
   "outputs": [],
   "source": [
    "sql = \"SELECT uid,weibo_cont, create_time, repost_num, comment_num, praise_num FROM `weibo`.`weibo_data` WHERE create_time > '2018-08-24 00:00' and create_time < '2018-09-20 00:00'\"\n",
    "cursor.execute(sql)"
   ]
  },
  {
   "cell_type": "code",
   "execution_count": null,
   "metadata": {},
   "outputs": [],
   "source": [
    "display_columes = ['uid' ,'weibo_cont', 'create_time', 'repost_num', 'comment_num', 'praise_num']\n",
    "res = cursor.fetchall()\n",
    "data_df = pd.DataFrame(list(res), columns=display_columes)"
   ]
  },
  {
   "cell_type": "code",
   "execution_count": null,
   "metadata": {},
   "outputs": [],
   "source": [
    "sql2 = \"SELECT uid,`name`, gender,verify_type, verify_info  FROM `weibo`.`wbuser`\"\n",
    "cursor.execute(sql2)"
   ]
  },
  {
   "cell_type": "code",
   "execution_count": null,
   "metadata": {},
   "outputs": [],
   "source": [
    "res2 = cursor.fetchall()\n",
    "display_columes2 = ['uid','name', 'gender','verify_type', 'verify_info']\n",
    "user_df = pd.DataFrame(list(res2), columns=display_columes2)"
   ]
  },
  {
   "cell_type": "code",
   "execution_count": null,
   "metadata": {},
   "outputs": [],
   "source": [
    "data_df.to_csv('../data/weibo_10000.csv')\n",
    "user_df.to_csv('../data/user_10000.csv')"
   ]
  },
  {
   "cell_type": "code",
   "execution_count": null,
   "metadata": {},
   "outputs": [],
   "source": [
    "res_df = pd.merge(data_df, user_df, how='left',on=['uid'])\n",
    "print(len(res_df), len(data_df), len(user_df))"
   ]
  },
  {
   "cell_type": "markdown",
   "metadata": {},
   "source": [
    "### 处理数据"
   ]
  },
  {
   "cell_type": "code",
   "execution_count": null,
   "metadata": {},
   "outputs": [],
   "source": [
    "res_df['create_time'] = pd.to_datetime(res_df['create_time'])"
   ]
  },
  {
   "cell_type": "code",
   "execution_count": null,
   "metadata": {},
   "outputs": [],
   "source": [
    "# 引爆点分析\n",
    "top_100 = data_df.sort_values(by=['repost_num','comment_num', 'praise_num'], ascending=[False, False, False])[:100]\n",
    "top_100 = pd.merge(top_100, user_df, how='left')\n",
    "top_100.to_excel('../data/top_100.xls')\n",
    "top_100"
   ]
  },
  {
   "cell_type": "code",
   "execution_count": null,
   "metadata": {},
   "outputs": [],
   "source": [
    "# 画出时间曲线\n",
    "time_group = res_df.groupby(lambda x: res_df['create_time'][x].date()).size()\n",
    "from matplotlib import pyplot as plt\n",
    "plt.figure(figsize=(12,6))\n",
    "plt.plot(time_group.index, time_group.values, label='weibo count')\n",
    "plt.title('analysis')\n",
    "plt.legend()\n",
    "plt.show()"
   ]
  },
  {
   "cell_type": "markdown",
   "metadata": {},
   "source": [
    "### 处理传播图"
   ]
  },
  {
   "cell_type": "code",
   "execution_count": 1,
   "metadata": {},
   "outputs": [],
   "source": [
    "import pandas as pd"
   ]
  },
  {
   "cell_type": "code",
   "execution_count": 2,
   "metadata": {},
   "outputs": [],
   "source": [
    "df = pd.read_csv('../data/repost.csv')"
   ]
  },
  {
   "cell_type": "code",
   "execution_count": 3,
   "metadata": {},
   "outputs": [],
   "source": [
    "import numpy as np\n",
    "import re\n",
    "res_2d_arr = []\n",
    "colums = ['Source', 'Target']\n",
    "for row in range(len(df)):\n",
    "    res =  [item.split(':',1)[0].replace('@','') for item in df.iloc[row,:].text.split('//') if re.match(r'@.*:.*', item)]\n",
    "    if res:\n",
    "        res = [df.iloc[row,:].uname] + res + ['Super_4ong']\n",
    "    else:\n",
    "        res = [df.iloc[row,:].uname] + ['Super_4ong']\n",
    "    res.reverse()\n",
    "    for index in range(len(res)-1):\n",
    "        res_2d_arr.append([res[index], res[index+1]])\n",
    "res_df = pd.DataFrame(np.array(res_2d_arr), columns=colums)\n",
    "res_df.to_csv('chuanbo.csv')"
   ]
  },
  {
   "cell_type": "code",
   "execution_count": null,
   "metadata": {},
   "outputs": [],
   "source": []
  }
 ],
 "metadata": {
  "kernelspec": {
   "display_name": "Python 3",
   "language": "python",
   "name": "python3"
  },
  "language_info": {
   "codemirror_mode": {
    "name": "ipython",
    "version": 3
   },
   "file_extension": ".py",
   "mimetype": "text/x-python",
   "name": "python",
   "nbconvert_exporter": "python",
   "pygments_lexer": "ipython3",
   "version": "3.6.5"
  }
 },
 "nbformat": 4,
 "nbformat_minor": 2
}
