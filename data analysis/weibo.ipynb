{
 "cells": [
  {
   "cell_type": "markdown",
   "metadata": {},
   "source": [
    "## 获取数据"
   ]
  },
  {
   "cell_type": "code",
   "execution_count": 1,
   "metadata": {},
   "outputs": [],
   "source": [
    "import pymysql\n",
    "import  pandas as pd"
   ]
  },
  {
   "cell_type": "code",
   "execution_count": 2,
   "metadata": {},
   "outputs": [],
   "source": [
    "db = pymysql.connect(host='210.45.212.126', user='lemon', password='Bigdata0217', port=3306)"
   ]
  },
  {
   "cell_type": "code",
   "execution_count": 3,
   "metadata": {},
   "outputs": [],
   "source": [
    "cursor = db.cursor()"
   ]
  },
  {
   "cell_type": "code",
   "execution_count": 4,
   "metadata": {},
   "outputs": [
    {
     "data": {
      "text/plain": [
       "1500"
      ]
     },
     "execution_count": 4,
     "metadata": {},
     "output_type": "execute_result"
    }
   ],
   "source": [
    "sql = \"SELECT uid, weibo_cont, create_time, repost_num, comment_num, praise_num FROM `weibo`.`weibo_data` WHERE create_time > '2018-08-24 00:00' and create_time < '2018-09-20 00:00'\"\n",
    "cursor.execute(sql)"
   ]
  },
  {
   "cell_type": "code",
   "execution_count": 5,
   "metadata": {},
   "outputs": [],
   "source": [
    "display_columes = ['uid', 'weibo_cont', 'create_time', 'repost_num', 'comment_num', 'praise_num']\n",
    "res = cursor.fetchall()\n",
    "data_df = pd.DataFrame(list(res), columns=display_columes)"
   ]
  },
  {
   "cell_type": "code",
   "execution_count": 6,
   "metadata": {},
   "outputs": [
    {
     "data": {
      "text/plain": [
       "1517"
      ]
     },
     "execution_count": 6,
     "metadata": {},
     "output_type": "execute_result"
    }
   ],
   "source": [
    "sql2 = \"SELECT uid,`name`, gender,verify_type, verify_info  FROM `weibo`.`wbuser`\"\n",
    "cursor.execute(sql2)"
   ]
  },
  {
   "cell_type": "code",
   "execution_count": 7,
   "metadata": {},
   "outputs": [],
   "source": [
    "res2 = cursor.fetchall()\n",
    "display_columes2 = ['uid','name', 'gender','verify_type', 'verify_ibbnfo']\n",
    "user_df = pd.DataFrame(list(res2), columns=display_columes2)"
   ]
  },
  {
   "cell_type": "code",
   "execution_count": 13,
   "metadata": {},
   "outputs": [],
   "source": [
    "res_df = pd.merge(data_df, user_df)\n",
    "res_df.to_csv('result.csv',index=None)\n"
   ]
  },
  {
   "cell_type": "markdown",
   "metadata": {},
   "source": [
    "## 处理数据"
   ]
  },
  {
   "cell_type": "code",
   "execution_count": 17,
   "metadata": {},
   "outputs": [],
   "source": [
    "result = pd.read_csv('result.csv')\n",
    "result['create_time'] = pd.to_datetime(result['create_time'])"
   ]
  },
  {
   "cell_type": "code",
   "execution_count": 18,
   "metadata": {},
   "outputs": [
    {
     "data": {
      "text/html": [
       "<div>\n",
       "<style scoped>\n",
       "    .dataframe tbody tr th:only-of-type {\n",
       "        vertical-align: middle;\n",
       "    }\n",
       "\n",
       "    .dataframe tbody tr th {\n",
       "        vertical-align: top;\n",
       "    }\n",
       "\n",
       "    .dataframe thead th {\n",
       "        text-align: right;\n",
       "    }\n",
       "</style>\n",
       "<table border=\"1\" class=\"dataframe\">\n",
       "  <thead>\n",
       "    <tr style=\"text-align: right;\">\n",
       "      <th></th>\n",
       "      <th>Unnamed: 0</th>\n",
       "      <th>uid</th>\n",
       "      <th>weibo_cont</th>\n",
       "      <th>create_time</th>\n",
       "      <th>repost_num</th>\n",
       "      <th>comment_num</th>\n",
       "      <th>praise_num</th>\n",
       "      <th>name</th>\n",
       "      <th>gender</th>\n",
       "      <th>verify_type</th>\n",
       "      <th>verify_ibbnfo</th>\n",
       "    </tr>\n",
       "  </thead>\n",
       "  <tbody>\n",
       "    <tr>\n",
       "      <th>77</th>\n",
       "      <td>77</td>\n",
       "      <td>2087169013</td>\n",
       "      <td>#人神共愤#【司机群内侮辱乐清滴滴遇害者，烟台警方行政拘留2人】24日，20岁的乐清姑娘小赵...</td>\n",
       "      <td>2018-08-29 12:56:00</td>\n",
       "      <td>40266</td>\n",
       "      <td>69625</td>\n",
       "      <td>198132</td>\n",
       "      <td>法制日报</td>\n",
       "      <td>0</td>\n",
       "      <td>2</td>\n",
       "      <td>法制日报官方微博</td>\n",
       "    </tr>\n",
       "    <tr>\n",
       "      <th>338</th>\n",
       "      <td>338</td>\n",
       "      <td>1749990115</td>\n",
       "      <td>【#顺风车司机直播女乘客#试图牟利 言语骚扰博关注 弹幕评论下流】女孩乘坐顺风车遇害案尚在舆...</td>\n",
       "      <td>2018-08-29 09:57:00</td>\n",
       "      <td>10942</td>\n",
       "      <td>21768</td>\n",
       "      <td>32324</td>\n",
       "      <td>北京青年报</td>\n",
       "      <td>0</td>\n",
       "      <td>2</td>\n",
       "      <td>北京青年报官方微博</td>\n",
       "    </tr>\n",
       "    <tr>\n",
       "      <th>1337</th>\n",
       "      <td>1337</td>\n",
       "      <td>2763342602</td>\n",
       "      <td>#警情通报#“乐清女孩滴滴顺风车遇害案”案发后，QQ昵称为“幸运星”的网民在千余人的“武汉滴...</td>\n",
       "      <td>2018-08-27 22:56:00</td>\n",
       "      <td>3929</td>\n",
       "      <td>3346</td>\n",
       "      <td>13261</td>\n",
       "      <td>平安蔡甸</td>\n",
       "      <td>0</td>\n",
       "      <td>2</td>\n",
       "      <td>武汉市公安局蔡甸区分局官方微博</td>\n",
       "    </tr>\n",
       "    <tr>\n",
       "      <th>85</th>\n",
       "      <td>85</td>\n",
       "      <td>1642088277</td>\n",
       "      <td>【交通部刊文批滴滴：对法律没有敬畏心 丢失安全底线 藐视生命】#交通部批滴滴#接二连三的事件...</td>\n",
       "      <td>2018-08-27 11:21:00</td>\n",
       "      <td>1226</td>\n",
       "      <td>2206</td>\n",
       "      <td>8977</td>\n",
       "      <td>财经网</td>\n",
       "      <td>0</td>\n",
       "      <td>2</td>\n",
       "      <td>财经网官方微博</td>\n",
       "    </tr>\n",
       "    <tr>\n",
       "      <th>621</th>\n",
       "      <td>621</td>\n",
       "      <td>3266943013</td>\n",
       "      <td>【#顺风车司机暗中直播女乘客#：言语骚扰博关注，弹幕评论下流】女孩乘坐顺风车遇害案尚在舆论漩...</td>\n",
       "      <td>2018-08-29 09:52:00</td>\n",
       "      <td>812</td>\n",
       "      <td>2009</td>\n",
       "      <td>3948</td>\n",
       "      <td>央视网</td>\n",
       "      <td>0</td>\n",
       "      <td>2</td>\n",
       "      <td>央视国际网络有限公司</td>\n",
       "    </tr>\n",
       "    <tr>\n",
       "      <th>30</th>\n",
       "      <td>30</td>\n",
       "      <td>2510158274</td>\n",
       "      <td>乐清滴滴顺风车遇害事件发生后，滴滴仅发文字致歉声明，派工作人员向家属致歉，创始人程维至今未曾...</td>\n",
       "      <td>2018-09-03 12:26:00</td>\n",
       "      <td>461</td>\n",
       "      <td>132</td>\n",
       "      <td>117</td>\n",
       "      <td>老宁说</td>\n",
       "      <td>1</td>\n",
       "      <td>1</td>\n",
       "      <td>上海通联科技发展有限公司 高级顾问 知名互联网资讯博主 微博签约自媒体</td>\n",
       "    </tr>\n",
       "    <tr>\n",
       "      <th>416</th>\n",
       "      <td>416</td>\n",
       "      <td>1638782947</td>\n",
       "      <td>【顺风车奸杀案嫌犯16岁女友讲述：案发前“他在网上搜强奸杀人会怎么样”】24日，浙江省乐清市...</td>\n",
       "      <td>2018-08-28 09:53:00</td>\n",
       "      <td>420</td>\n",
       "      <td>1744</td>\n",
       "      <td>3202</td>\n",
       "      <td>新浪财经</td>\n",
       "      <td>0</td>\n",
       "      <td>2</td>\n",
       "      <td>新浪财经官方微博</td>\n",
       "    </tr>\n",
       "    <tr>\n",
       "      <th>1382</th>\n",
       "      <td>1382</td>\n",
       "      <td>1644948230</td>\n",
       "      <td>【女子深夜搭网约车遭性侵险被灭口 目前疑犯仍在逃】在乐清20岁女孩搭乘滴滴顺风车遇害事件后，...</td>\n",
       "      <td>2018-08-31 15:30:00</td>\n",
       "      <td>390</td>\n",
       "      <td>393</td>\n",
       "      <td>393</td>\n",
       "      <td>法制晚报</td>\n",
       "      <td>0</td>\n",
       "      <td>2</td>\n",
       "      <td>《法制晚报》官方微博</td>\n",
       "    </tr>\n",
       "    <tr>\n",
       "      <th>1372</th>\n",
       "      <td>1372</td>\n",
       "      <td>1956700750</td>\n",
       "      <td>【乐清乘顺风车遇害女孩出殡前，#滴滴工作人员赴殡仪馆慰问遭拒#】8月24日，浙江乐清20岁女...</td>\n",
       "      <td>2018-09-02 17:11:00</td>\n",
       "      <td>350</td>\n",
       "      <td>1128</td>\n",
       "      <td>2389</td>\n",
       "      <td>电商报</td>\n",
       "      <td>0</td>\n",
       "      <td>2</td>\n",
       "      <td>电商报官方微博</td>\n",
       "    </tr>\n",
       "    <tr>\n",
       "      <th>869</th>\n",
       "      <td>869</td>\n",
       "      <td>5059529868</td>\n",
       "      <td>针对今日#顺风车司机暗中直播女乘客# 弹幕评论不堪入目！联想到之前空姐，#乐清女孩滴滴顺风车...</td>\n",
       "      <td>2018-08-29 16:15:00</td>\n",
       "      <td>307</td>\n",
       "      <td>311</td>\n",
       "      <td>26</td>\n",
       "      <td>新浪深圳科技频道</td>\n",
       "      <td>0</td>\n",
       "      <td>2</td>\n",
       "      <td>新浪深圳科技官方微博</td>\n",
       "    </tr>\n",
       "  </tbody>\n",
       "</table>\n",
       "</div>"
      ],
      "text/plain": [
       "      Unnamed: 0         uid  \\\n",
       "77            77  2087169013   \n",
       "338          338  1749990115   \n",
       "1337        1337  2763342602   \n",
       "85            85  1642088277   \n",
       "621          621  3266943013   \n",
       "30            30  2510158274   \n",
       "416          416  1638782947   \n",
       "1382        1382  1644948230   \n",
       "1372        1372  1956700750   \n",
       "869          869  5059529868   \n",
       "\n",
       "                                             weibo_cont         create_time  \\\n",
       "77    #人神共愤#【司机群内侮辱乐清滴滴遇害者，烟台警方行政拘留2人】24日，20岁的乐清姑娘小赵... 2018-08-29 12:56:00   \n",
       "338   【#顺风车司机直播女乘客#试图牟利 言语骚扰博关注 弹幕评论下流】女孩乘坐顺风车遇害案尚在舆... 2018-08-29 09:57:00   \n",
       "1337  #警情通报#“乐清女孩滴滴顺风车遇害案”案发后，QQ昵称为“幸运星”的网民在千余人的“武汉滴... 2018-08-27 22:56:00   \n",
       "85    【交通部刊文批滴滴：对法律没有敬畏心 丢失安全底线 藐视生命】#交通部批滴滴#接二连三的事件... 2018-08-27 11:21:00   \n",
       "621   【#顺风车司机暗中直播女乘客#：言语骚扰博关注，弹幕评论下流】女孩乘坐顺风车遇害案尚在舆论漩... 2018-08-29 09:52:00   \n",
       "30    乐清滴滴顺风车遇害事件发生后，滴滴仅发文字致歉声明，派工作人员向家属致歉，创始人程维至今未曾... 2018-09-03 12:26:00   \n",
       "416   【顺风车奸杀案嫌犯16岁女友讲述：案发前“他在网上搜强奸杀人会怎么样”】24日，浙江省乐清市... 2018-08-28 09:53:00   \n",
       "1382  【女子深夜搭网约车遭性侵险被灭口 目前疑犯仍在逃】在乐清20岁女孩搭乘滴滴顺风车遇害事件后，... 2018-08-31 15:30:00   \n",
       "1372  【乐清乘顺风车遇害女孩出殡前，#滴滴工作人员赴殡仪馆慰问遭拒#】8月24日，浙江乐清20岁女... 2018-09-02 17:11:00   \n",
       "869   针对今日#顺风车司机暗中直播女乘客# 弹幕评论不堪入目！联想到之前空姐，#乐清女孩滴滴顺风车... 2018-08-29 16:15:00   \n",
       "\n",
       "      repost_num  comment_num  praise_num      name  gender  verify_type  \\\n",
       "77         40266        69625      198132      法制日报       0            2   \n",
       "338        10942        21768       32324     北京青年报       0            2   \n",
       "1337        3929         3346       13261      平安蔡甸       0            2   \n",
       "85          1226         2206        8977       财经网       0            2   \n",
       "621          812         2009        3948       央视网       0            2   \n",
       "30           461          132         117       老宁说       1            1   \n",
       "416          420         1744        3202      新浪财经       0            2   \n",
       "1382         390          393         393      法制晚报       0            2   \n",
       "1372         350         1128        2389       电商报       0            2   \n",
       "869          307          311          26  新浪深圳科技频道       0            2   \n",
       "\n",
       "                              verify_ibbnfo  \n",
       "77                                 法制日报官方微博  \n",
       "338                               北京青年报官方微博  \n",
       "1337                        武汉市公安局蔡甸区分局官方微博  \n",
       "85                                  财经网官方微博  \n",
       "621                              央视国际网络有限公司  \n",
       "30      上海通联科技发展有限公司 高级顾问 知名互联网资讯博主 微博签约自媒体  \n",
       "416                                新浪财经官方微博  \n",
       "1382                             《法制晚报》官方微博  \n",
       "1372                                电商报官方微博  \n",
       "869                              新浪深圳科技官方微博  "
      ]
     },
     "execution_count": 18,
     "metadata": {},
     "output_type": "execute_result"
    }
   ],
   "source": [
    "# 引爆点分析\n",
    "top_10 = result.sort_values(by=['repost_num', 'comment_num', 'praise_num'], ascending=[False, False, False])[:10]\n",
    "top_10"
   ]
  },
  {
   "cell_type": "code",
   "execution_count": null,
   "metadata": {},
   "outputs": [],
   "source": [
    "### 变化曲线"
   ]
  },
  {
   "cell_type": "code",
   "execution_count": 19,
   "metadata": {},
   "outputs": [],
   "source": [
    "time_group = result.groupby(lambda x: result['create_time'][x].date()).size()"
   ]
  },
  {
   "cell_type": "code",
   "execution_count": 21,
   "metadata": {},
   "outputs": [
    {
     "data": {
      "image/png": "[encoded data removed]",
      "text/plain": [
       "<Figure size 648x432 with 1 Axes>"
      ]
     },
     "metadata": {},
     "output_type": "display_data"
    }
   ],
   "source": [
    "from matplotlib import pyplot as plt\n",
    "plt.figure(figsize=(9,6))\n",
    "plt.plot(time_group.index, time_group.values, label='test')\n",
    "plt.title('test')\n",
    "plt.legend()\n",
    "plt.show()"
   ]
  },
  {
   "cell_type": "code",
   "execution_count": null,
   "metadata": {},
   "outputs": [],
   "source": []
  }
 ],
 "metadata": {
  "kernelspec": {
   "display_name": "Python 3",
   "language": "python",
   "name": "python3"
  },
  "language_info": {
   "codemirror_mode": {
    "name": "ipython",
    "version": 3
   },
   "file_extension": ".py",
   "mimetype": "text/x-python",
   "name": "python",
   "nbconvert_exporter": "python",
   "pygments_lexer": "ipython3",
   "version": "3.6.5"
  }
 },
 "nbformat": 4,
 "nbformat_minor": 2
}
