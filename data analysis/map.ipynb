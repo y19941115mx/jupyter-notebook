{
 "cells": [
  {
   "cell_type": "code",
   "execution_count": null,
   "metadata": {},
   "outputs": [],
   "source": [
    "with open('../data/place.txt', 'r', encoding='utf-8') as f:\n",
    "    names = []\n",
    "    value_dict = {'A':20, 'B':40,'C':60,'D':80,'E':100}\n",
    "    values = []\n",
    "    for line in f.readlines():\n",
    "        line = line.strip()\n",
    "        items = line.split('   ')\n",
    "        for item in items:\n",
    "            name, value = item.split('  ', 1)\n",
    "            names.append(name)\n",
    "            values.append(value_dict[value])"
   ]
  },
  {
   "cell_type": "code",
   "execution_count": null,
   "metadata": {},
   "outputs": [],
   "source": [
    "import pandas as pd"
   ]
  },
  {
   "cell_type": "code",
   "execution_count": null,
   "metadata": {},
   "outputs": [],
   "source": [
    "data = [item for item in zip(names, values)]\n",
    "df = pd.DataFrame(data, columns=('城市名','数值'))"
   ]
  },
  {
   "cell_type": "code",
   "execution_count": null,
   "metadata": {},
   "outputs": [],
   "source": [
    "df.to_csv('res.csv',encoding='utf-8',index=False)"
   ]
  },
  {
   "cell_type": "markdown",
   "metadata": {},
   "source": [
    "### 使用Echarts 绘制地图"
   ]
  },
  {
   "cell_type": "code",
   "execution_count": null,
   "metadata": {},
   "outputs": [],
   "source": [
    "from pyecharts import Geo\n",
    "data = [item for item in zip(names, values)]\n",
    "geo = Geo(u\"全国主要城市绘图结果\", \"data from city color\",\n",
    "          title_color=\"#fff\", title_pos=\"center\",\n",
    "          width=1200, height=600, background_color='#404a59')\n",
    "attr, value = geo.cast(data)\n",
    "geo.add(\"\", attr, value, visual_range=[0, 100],\n",
    "        visual_text_color=\"#fff\", symbol_size=15, is_visualmap=True)\n",
    "geo.show_config()\n",
    "geo.render(\"res.html\")"
   ]
  },
  {
   "cell_type": "code",
   "execution_count": 1,
   "metadata": {},
   "outputs": [],
   "source": [
    "import pandas as pd"
   ]
  },
  {
   "cell_type": "code",
   "execution_count": 2,
   "metadata": {},
   "outputs": [],
   "source": [
    "df = pd.read_csv('res.csv')"
   ]
  },
  {
   "cell_type": "code",
   "execution_count": 7,
   "metadata": {},
   "outputs": [],
   "source": [
    "res_dict = {}\n",
    "for i in range(len(df)):\n",
    "    res_dict[df.iloc[i, 0] + '市'] =  df.iloc[i, 1]"
   ]
  },
  {
   "cell_type": "code",
   "execution_count": 8,
   "metadata": {},
   "outputs": [
    {
     "data": {
      "text/plain": [
       "{'唐山市': 40,\n",
       " '白山市': 100,\n",
       " '宜春市': 60,\n",
       " '广元市': 20,\n",
       " '邯郸市': 40,\n",
       " '松原市': 60,\n",
       " '淄博市': 60,\n",
       " '南充市': 20,\n",
       " '邢台市': 20,\n",
       " '鸡西市': 100,\n",
       " '枣庄市': 80,\n",
       " '张家口市': 20,\n",
       " '鹤岗市': 60,\n",
       " '东营市': 60,\n",
       " '承德市': 40,\n",
       " '双鸭山市': 100,\n",
       " '济宁市': 80,\n",
       " '雅安市': 80,\n",
       " '大同市': 20,\n",
       " '大庆市': 100,\n",
       " '泰安市': 60,\n",
       " '六盘水市': 40,\n",
       " '阳泉市': 60,\n",
       " '伊春市': 100,\n",
       " '莱芜市': 80,\n",
       " '安顺市': 40,\n",
       " '长治市': 60,\n",
       " '七台河市': 100,\n",
       " '临沂市': 80,\n",
       " '毕节市': 20,\n",
       " '晋城市': 40,\n",
       " '牡丹江市': 20,\n",
       " '洛阳市': 20,\n",
       " '曲靖市': 60,\n",
       " '朔州市': 60,\n",
       " '黑河市': 60,\n",
       " '平顶山市': 60,\n",
       " '保山市': 60,\n",
       " '晋中市': 20,\n",
       " '徐州市': 20,\n",
       " '鹤壁市': 60,\n",
       " '昭通市': 80,\n",
       " '运城市': 60,\n",
       " '宿迁市': 60,\n",
       " '焦作市': 20,\n",
       " '忻州市': 80,\n",
       " '湖州市': 20,\n",
       " '濮阳市': 20,\n",
       " '临汾市': 20,\n",
       " '淮南市': 60,\n",
       " '三门峡市': 60,\n",
       " '铜川市': 60,\n",
       " '吕梁市': 100,\n",
       " '马鞍山市': 20,\n",
       " '南阳市': 20,\n",
       " '宝鸡市': 40,\n",
       " '包头市': 20,\n",
       " '淮北市': 60,\n",
       " '黄石市': 20,\n",
       " '咸阳市': 20,\n",
       " '乌海市': 60,\n",
       " '铜陵市': 40,\n",
       " '鄂州市': 40,\n",
       " '渭南市': 20,\n",
       " '赤峰市': 80,\n",
       " '滁州市': 80,\n",
       " '衡阳市': 40,\n",
       " '延安市': 60,\n",
       " '鄂尔多斯市': 80,\n",
       " '宿州市': 40,\n",
       " '邵阳市': 20,\n",
       " '榆林市': 60,\n",
       " '呼伦贝尔市': 80,\n",
       " '亳州市': 80,\n",
       " '郴州市': 40,\n",
       " '金昌市': 20,\n",
       " '鞍山市': 80,\n",
       " '娄底市': 60,\n",
       " '白银市': 20,\n",
       " '抚顺市': 80,\n",
       " '韶关市': 20,\n",
       " '武威市': 80,\n",
       " '本溪市': 60,\n",
       " '三明市': 60,\n",
       " '云浮市': 60,\n",
       " '张掖市': 80,\n",
       " '阜新市': 80,\n",
       " '南平市': 60,\n",
       " '百色市': 80,\n",
       " '平凉市': 80,\n",
       " '盘锦市': 60,\n",
       " '龙岩市': 80,\n",
       " '葫芦岛市': 80,\n",
       " '景德镇市': 20,\n",
       " '河池市': 80,\n",
       " '陇南市': 80,\n",
       " '吉林市': 100,\n",
       " '萍乡市': 40,\n",
       " '自贡市': 20,\n",
       " '石嘴山市': 40,\n",
       " '辽源市': 100,\n",
       " '新余市': 80,\n",
       " '攀枝花市': 60,\n",
       " '克拉玛依市': 100,\n",
       " '通化市': 60,\n",
       " '赣州市': 80,\n",
       " '泸州市': 20}"
      ]
     },
     "execution_count": 8,
     "metadata": {},
     "output_type": "execute_result"
    }
   ],
   "source": [
    "res_dict"
   ]
  },
  {
   "cell_type": "code",
   "execution_count": 12,
   "metadata": {},
   "outputs": [],
   "source": [
    "city_json = [{'name':name, 'value':str(value)} for name, value in res_dict.items()]"
   ]
  },
  {
   "cell_type": "code",
   "execution_count": 14,
   "metadata": {},
   "outputs": [],
   "source": [
    "import json\n",
    "json.dump(city_json, open('city_json.js', 'w', encoding='utf-8'))"
   ]
  },
  {
   "cell_type": "code",
   "execution_count": null,
   "metadata": {},
   "outputs": [],
   "source": []
  }
 ],
 "metadata": {
  "kernelspec": {
   "display_name": "Python 3",
   "language": "python",
   "name": "python3"
  },
  "language_info": {
   "codemirror_mode": {
    "name": "ipython",
    "version": 3
   },
   "file_extension": ".py",
   "mimetype": "text/x-python",
   "name": "python",
   "nbconvert_exporter": "python",
   "pygments_lexer": "ipython3",
   "version": "3.6.5"
  }
 },
 "nbformat": 4,
 "nbformat_minor": 2
}
