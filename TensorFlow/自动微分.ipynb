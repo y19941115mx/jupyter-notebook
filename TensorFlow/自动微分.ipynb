{
 "cells": [
  {
   "cell_type": "code",
   "execution_count": 2,
   "metadata": {},
   "outputs": [],
   "source": [
    "import tensorflow as tf\n",
    "tf.enable_eager_execution()"
   ]
  },
  {
   "cell_type": "markdown",
   "metadata": {},
   "source": [
    "### 基本使用"
   ]
  },
  {
   "cell_type": "code",
   "execution_count": 3,
   "metadata": {},
   "outputs": [],
   "source": [
    "x = tf.ones([2,2])"
   ]
  },
  {
   "cell_type": "code",
   "execution_count": 4,
   "metadata": {},
   "outputs": [],
   "source": [
    "# 使用梯度带 计算与输入变量相关的微分\n",
    "with tf.GradientTape() as t:\n",
    "    # 记录要计算的张量\n",
    "    t.watch(x)\n",
    "    y = tf.square(tf.reduce_sum(x))"
   ]
  },
  {
   "cell_type": "code",
   "execution_count": 6,
   "metadata": {},
   "outputs": [],
   "source": [
    "dy_dx = t.gradient(y, x)"
   ]
  },
  {
   "cell_type": "markdown",
   "metadata": {},
   "source": [
    "### 计算高阶微分"
   ]
  },
  {
   "cell_type": "code",
   "execution_count": 12,
   "metadata": {},
   "outputs": [],
   "source": [
    "# 变量类型的张量会自动计算\n",
    "x2 = tf.Variable(3.0) "
   ]
  },
  {
   "cell_type": "code",
   "execution_count": 36,
   "metadata": {},
   "outputs": [],
   "source": [
    "# 可以计算高阶的微分\n",
    "with tf.GradientTape() as t:\n",
    "    with tf.GradientTape() as t2:\n",
    "        y = x2 * x2 * x2\n",
    "        dy_dx = t2.gradient(y, x2)\n",
    "        d2y_dx2 = t.gradient(dy_dx, x2)"
   ]
  },
  {
   "cell_type": "code",
   "execution_count": 37,
   "metadata": {},
   "outputs": [
    {
     "data": {
      "text/plain": [
       "<tf.Tensor: id=115, shape=(), dtype=float32, numpy=18.0>"
      ]
     },
     "execution_count": 37,
     "metadata": {},
     "output_type": "execute_result"
    }
   ],
   "source": [
    "d2y_dx2"
   ]
  },
  {
   "cell_type": "markdown",
   "metadata": {},
   "source": [
    "### 拟合线性模型"
   ]
  },
  {
   "cell_type": "code",
   "execution_count": 64,
   "metadata": {},
   "outputs": [
    {
     "data": {
      "text/plain": [
       "array([0.18728539])"
      ]
     },
     "execution_count": 64,
     "metadata": {},
     "output_type": "execute_result"
    }
   ],
   "source": [
    "import numpy as np"
   ]
  },
  {
   "cell_type": "code",
   "execution_count": 66,
   "metadata": {},
   "outputs": [],
   "source": [
    "# 封装模型中的变量和计算\n",
    "class Model(object):\n",
    "    def __init__(self):\n",
    "        self.W = tf.Variable(np.random.random())\n",
    "        self.b = tf.Variable(np.random.random())\n",
    "        \n",
    "    def __call__(self, x):\n",
    "        return self.W * x + self.b"
   ]
  },
  {
   "cell_type": "code",
   "execution_count": 69,
   "metadata": {},
   "outputs": [
    {
     "data": {
      "text/plain": [
       "<tf.Tensor: id=410, shape=(2,), dtype=float32, numpy=array([1.0951003, 1.9600198], dtype=float32)>"
      ]
     },
     "execution_count": 69,
     "metadata": {},
     "output_type": "execute_result"
    }
   ],
   "source": [
    "model = Model()\n",
    "model([1,2])"
   ]
  },
  {
   "cell_type": "code",
   "execution_count": 49,
   "metadata": {},
   "outputs": [],
   "source": [
    "# 定义损失函数\n",
    "def loss(predict_y, y):\n",
    "    return tf.reduce_mean(tf.square(predict_y - y))"
   ]
  },
  {
   "cell_type": "code",
   "execution_count": 55,
   "metadata": {},
   "outputs": [],
   "source": [
    "# 获取训练数据\n",
    "TRUE_W = 3.0\n",
    "TRUE_b = 2.0\n",
    "MAX_EXAMPLES = 100\n",
    "\n",
    "train_data_x = tf.random.normal([MAX_EXAMPLES])\n",
    "train_data_y = train_data_x * TRUE_W + TRUE_b + tf.random.normal([MAX_EXAMPLES])"
   ]
  },
  {
   "cell_type": "code",
   "execution_count": 56,
   "metadata": {},
   "outputs": [],
   "source": [
    "import matplotlib.pyplot as plt"
   ]
  },
  {
   "cell_type": "code",
   "execution_count": 70,
   "metadata": {},
   "outputs": [
    {
     "data": {
      "image/png": "[encoded data removed]",
      "text/plain": [
       "<matplotlib.figure.Figure at 0x1c27e95cf8>"
      ]
     },
     "metadata": {},
     "output_type": "display_data"
    }
   ],
   "source": [
    "plt.scatter(train_data_x, train_data_y, c='b')\n",
    "plt.scatter(train_data_x, model(train_data_x), c='r')\n",
    "plt.show()"
   ]
  },
  {
   "cell_type": "code",
   "execution_count": 76,
   "metadata": {},
   "outputs": [],
   "source": [
    "# 定义模型的训练方法\n",
    "def train(model, inputs, outputs, learning_rate = 0.1):\n",
    "    with tf.GradientTape() as t:\n",
    "        current_loss = loss(model(inputs), outputs)\n",
    "        # 同时对 W 和 b 计算梯度\n",
    "        dW, db = t.gradient(current_loss, [model.W, model.b])\n",
    "        model.W.assign_sub(learning_rate * dW)\n",
    "        model.b.assign_sub(learning_rate * db)"
   ]
  },
  {
   "cell_type": "code",
   "execution_count": 85,
   "metadata": {},
   "outputs": [
    {
     "name": "stdout",
     "output_type": "stream",
     "text": [
      "Epochs 0: W = 0.011080801, b = 0.0033542728, loss = 8.952646\n",
      "Epochs 1: W = 0.5827451, b = 0.44731995, loss = 5.959471\n",
      "Epochs 2: W = 1.042367, b = 0.7963101, loss = 4.0555773\n",
      "Epochs 3: W = 1.4119922, b = 1.0705316, loss = 2.8439307\n",
      "Epochs 4: W = 1.7093122, b = 1.2859113, loss = 2.072423\n",
      "Epochs 5: W = 1.9485273, b = 1.4549997, loss = 1.5808973\n",
      "Epochs 6: W = 2.1410384, b = 1.5876833, loss = 1.267567\n",
      "Epochs 7: W = 2.2960005, b = 1.6917483, loss = 1.0677097\n",
      "Epochs 8: W = 2.420767, b = 1.7733244, loss = 0.9401517\n",
      "Epochs 9: W = 2.521246, b = 1.8372359, loss = 0.8586857\n",
      "Epochs 10: W = 2.6021845, b = 1.8872786, loss = 0.806622\n",
      "Epochs 11: W = 2.6673982, b = 1.9264374, loss = 0.7733258\n",
      "Epochs 12: W = 2.7199547, b = 1.9570591, loss = 0.75201684\n",
      "Epochs 13: W = 2.7623208, b = 1.9809881, loss = 0.73836935\n",
      "Epochs 14: W = 2.7964804, b = 1.9996731, loss = 0.72962224\n",
      "Epochs 15: W = 2.8240297, b = 2.0142517, loss = 0.7240116\n",
      "Epochs 16: W = 2.8462532, b = 2.0256166, loss = 0.7204097\n",
      "Epochs 17: W = 2.8641849, b = 2.0344682, loss = 0.71809554\n",
      "Epochs 18: W = 2.8786569, b = 2.0413556, loss = 0.7166076\n",
      "Epochs 19: W = 2.8903396, b = 2.046709, loss = 0.71565\n"
     ]
    }
   ],
   "source": [
    "# 进行模型训练\n",
    "model = Model()\n",
    "\n",
    "Ws, bs = [], []\n",
    "epochs = range(20)\n",
    "for epoch in epochs:\n",
    "    Ws.append(model.W.numpy())\n",
    "    bs.append(model.b.numpy())\n",
    "    \n",
    "    train(model, train_data_x, train_data_y)\n",
    "    \n",
    "    current_loss = loss(model(train_data_x), train_data_y)\n",
    "    \n",
    "    print('Epochs %s: W = %s, b = %s, loss = %s' %(epoch, Ws[-1], bs[-1], current_loss.numpy()))"
   ]
  },
  {
   "cell_type": "code",
   "execution_count": 86,
   "metadata": {},
   "outputs": [
    {
     "data": {
      "image/png": "[encoded data removed]",
      "text/plain": [
       "<matplotlib.figure.Figure at 0x1c2bf7ab38>"
      ]
     },
     "metadata": {},
     "output_type": "display_data"
    }
   ],
   "source": [
    "# 绘图\n",
    "plt.plot(epochs, Ws, 'r', epochs, bs, 'b')\n",
    "plt.plot(epochs, len(epochs) * [TRUE_W], 'r--', epochs, len(epochs) * [TRUE_b], 'b--')\n",
    "plt.legend(['W','b', 'true W', 'true b'])\n",
    "plt.show()"
   ]
  },
  {
   "cell_type": "code",
   "execution_count": null,
   "metadata": {},
   "outputs": [],
   "source": []
  }
 ],
 "metadata": {
  "kernelspec": {
   "display_name": "Python 3",
   "language": "python",
   "name": "python3"
  },
  "language_info": {
   "codemirror_mode": {
    "name": "ipython",
    "version": 3
   },
   "file_extension": ".py",
   "mimetype": "text/x-python",
   "name": "python",
   "nbconvert_exporter": "python",
   "pygments_lexer": "ipython3",
   "version": "3.6.4"
  }
 },
 "nbformat": 4,
 "nbformat_minor": 2
}
